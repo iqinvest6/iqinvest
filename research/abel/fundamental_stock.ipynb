{
 "cells": [
  {
   "cell_type": "code",
   "execution_count": null,
   "metadata": {
    "vscode": {
     "languageId": "plaintext"
    }
   },
   "outputs": [],
   "source": [
    "import yfinance as yf\n",
    "import pandas as pd\n",
    "from datetime import datetime\n",
    "from datetime import timedelta"
   ]
  },
  {
   "cell_type": "code",
   "execution_count": null,
   "metadata": {
    "vscode": {
     "languageId": "plaintext"
    }
   },
   "outputs": [],
   "source": [
    "# Example: Fetch data for Reliance Industries (RELIANCE.NS)\n",
    "ticker = \"RELIANCE.NS\"\n",
    "stock = yf.Ticker(ticker)\n",
    "# Get price data\n",
    "end_date=datetime.now()\n",
    "start_date=end_date-timedelta(days=365)\n",
    "price_data=stock.history(start=start_date,end=end_date)\n",
    "\n",
    "# if price_data.empty:\n",
    "#     return None\n",
    "\n",
    "latest_price=price_data.iloc[-1]\n",
    "# calculates percentage changes\n",
    "daily_change=latest_price['Close']-price_data.iloc[-2]['Close']/price_data.iloc[-2]['Close']*100\n",
    "weekly_change=latest_price['Close']-price_data.iloc[-6]['Close']/price_data.iloc[-6]['Close']*100\n",
    "monthly_change= latest_price['Close']-price_data.iloc[-22]['Close']/price_data.iloc[-22]['Close']*100\n",
    "\n",
    "# Get fundamental data\n",
    "info = stock.info\n",
    "\n",
    "stock_data={\n",
    "    'Symbol':ticker,\n",
    "    'Company Name':info.get('longName','N/A'),\n",
    "    'Sector':info.get('sector','N/A'),\n",
    "    'Industry':info.get('industry','N/A'),\n",
    "    'Market Cap':info.get('marketCap','N/A'),\n",
    "    'P/E Ratio': info.get('trailingPE','N/A'),\n",
    "    'Forward P/E': info.get('forwardPE','N/A'),\n",
    "    'PEG Ratio': info.get('pegRatio','N/A'),\n",
    "    'Price to Book': info.get('priceToBook','N/A'),\n",
    "    'EV/EBITDA': info.get('enterpriseToEbitda','N/A'),\n",
    "    'Profit Margin': info.get('profitMargins','N/A'),\n",
    "    'Operating Margin':info.get('operatingMargins','N/A'),\n",
    "    'ROE':info.get('returnOnEquity','N/A'),\n",
    "    'ROA':info.get('returnOnAssets','N/A'),\n",
    "    'Revenue':info.get('totalRevenue','N/A'),\n",
    "    'Revenue Per Share':info.get('revenuePerShare','N/A'),\n",
    "    'quarterly Revenue Growth':info.get('quarterlyRevenueGrowth','N/A'),\n",
    "    'Gross Profit':info.get('grossProfits','N/A'),\n",
    "    'EBITDA':info.get('ebitda','N/A'),\n",
    "    'Net Income':info.get('netIncomeToCommon','N/A'),\n",
    "    'EPS':info.get('trailingsEps','N/A'),\n",
    "    'Quarterly Earnings Growth':info.get('quarterlyEarningsGrowth','N/A'),\n",
    "    'Total Cash':info.get('totalCash','N/A'), \n",
    "    'Total Debt':info.get('totalDebt','N/A'),\n",
    "    'Debt To Equity':info.get('debtToEquity','N/A'), \n",
    "    'Current Ratio':info.get('currentRatio','N/A'),\n",
    "    'Book Value': info.get('bookValue','N/A'),\n",
    "    'Free Cash Flow': info.get('freeCashflow','N/A'),\n",
    "    'Dividend Rate': info.get('dividendRate','N/A'),\n",
    "    'Dividend Yield': info.get('dividendYield','N/A'),\n",
    "    'Payout Ratio': info.get('payoutRatio','N/A'),\n",
    "    'Beta': info.get('beta','N/A'),\n",
    "    '52 Week High': info.get('fiftyTwoWeekHigh','N/A'),\n",
    "    '52 Week Low': info.get('fiftyTwoWeekLow','N/A'),\n",
    "    '50 Day Average': info.get('fiftyDayAverage','N/A'),\n",
    "    '200 Day Average': info.get('twoHundredDayAverage','N/A'),\n",
    "    'Latest Price': info.get('Close','N/A'),\n",
    "    'Daily Change %': f\"{daily_change:.2f}%\",\n",
    "    'Weekly Change %': f\"{weekly_change:.2f}%\",\n",
    "    'Monthly Change %': f\"{monthly_change:.2f}%\",\n",
    "#     'Volume': latest_price{'Volume'}, \n",
    "}"
   ]
  }
 ],
 "metadata": {
  "language_info": {
   "name": "python"
  }
 },
 "nbformat": 4,
 "nbformat_minor": 2
}
